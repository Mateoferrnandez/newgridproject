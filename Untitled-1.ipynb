{
 "cells": [
  {
   "cell_type": "markdown",
   "metadata": {},
   "source": [
    "#"
   ]
  },
  {
   "cell_type": "markdown",
   "metadata": {},
   "source": [
    "# New_grid_porject"
   ]
  },
  {
   "cell_type": "code",
   "execution_count": 1,
   "metadata": {},
   "outputs": [],
   "source": [
    "import pandas as pd\n",
    "import numpy as np"
   ]
  },
  {
   "cell_type": "code",
   "execution_count": 6,
   "metadata": {},
   "outputs": [
    {
     "ename": "SyntaxError",
     "evalue": "unterminated string literal (detected at line 4) (4014942708.py, line 4)",
     "output_type": "error",
     "traceback": [
      "\u001b[1;36m  Cell \u001b[1;32mIn[6], line 4\u001b[1;36m\u001b[0m\n\u001b[1;33m    base_path = \"D:\\Documentos\\Github\\newgridproject\\Dataa\\\"\u001b[0m\n\u001b[1;37m                ^\u001b[0m\n\u001b[1;31mSyntaxError\u001b[0m\u001b[1;31m:\u001b[0m unterminated string literal (detected at line 4)\n"
     ]
    }
   ],
   "source": [
    "dataframes = []\n",
    "\n",
    "# Ruta base\n",
    "base_path = \"D:\\Documentos\\Github\\newgridproject\\Dataa\\\"\n",
    "\n",
    "df1 = pd.read_excel(f\"{base_path}Generacion_(kWh)_1995.xlsx\", header=2)\n",
    "dataframes.append(df1)\n",
    "\n",
    "df2 = pd.read_excel(f\"{base_path}Generacion_(kWh)_1996.xlsx\", header=0)\n",
    "dataframes.append(df2)\n",
    "\n",
    "df3 = pd.read_excel(f\"{base_path}Generacion_(kWh)_1997.xlsx\", header=1)\n",
    "dataframes.append(df3)\n",
    "\n",
    "df4 = pd.read_excel(f\"{base_path}Generacion_(kWh)_1998.xlsx\", header=1)\n",
    "dataframes.append(df4)\n",
    "\n",
    "df5 = pd.read_excel(f\"{base_path}Generacion_(kWh)_1999.xlsx\", header=1)\n",
    "dataframes.append(df5)\n",
    "\n",
    "df6 = pd.read_excel(f\"{base_path}Generacion_(kWh)_2000.xlsx\", header=2)\n",
    "dataframes.append(df6)\n",
    "\n",
    "df7 = pd.read_excel(f\"{base_path}Generacion_(kWh)_2001.xlsx\", header=1)\n",
    "dataframes.append(df7)\n",
    "\n",
    "df8 = pd.read_excel(f\"{base_path}Generacion_(kWh)_2002.xlsx\", header=1)\n",
    "dataframes.append(df8)\n",
    "\n",
    "df9 = pd.read_excel(f\"{base_path}Generacion_(kWh)_2003.xlsx\", header=2)\n",
    "dataframes.append(df9)\n",
    "\n",
    "df10 = pd.read_excel(f\"{base_path}Generacion_(kWh)_2004.xlsx\", header=1)\n",
    "dataframes.append(df10)\n",
    "\n",
    "df11 = pd.read_excel(f\"{base_path}Generacion_(kWh)_2005.xlsx\", header=1)\n",
    "dataframes.append(df11)\n",
    "\n",
    "df12 = pd.read_excel(f\"{base_path}Generacion_(kWh)_2006.xlsx\", header=2)\n",
    "dataframes.append(df12)\n",
    "\n",
    "df13 = pd.read_excel(f\"{base_path}Generacion_(kWh)_2007.xlsx\", header=2)\n",
    "dataframes.append(df13)\n",
    "\n",
    "df14 = pd.read_excel(f\"{base_path}Generacion_(kWh)_2008.xlsx\", header=2)\n",
    "dataframes.append(df14)\n",
    "\n",
    "df15 = pd.read_excel(f\"{base_path}Generacion_(kWh)_2009.xlsx\", header=2)\n",
    "dataframes.append(df15)\n",
    "\n",
    "df16 = pd.read_excel(f\"{base_path}Generacion_(kWh)_2010.xlsx\", header=2)\n",
    "dataframes.append(df16)\n",
    "\n",
    "df17 = pd.read_excel(f\"{base_path}Generacion_(kWh)_2011.xlsx\", header=2)\n",
    "dataframes.append(df17)\n",
    "\n",
    "df18 = pd.read_excel(f\"{base_path}Generacion_(kWh)_2012.xlsx\", header=2)\n",
    "dataframes.append(df18)\n",
    "\n",
    "df19 = pd.read_excel(f\"{base_path}Generacion_(kWh)_2013.xlsx\", header=2)\n",
    "dataframes.append(df19)\n",
    "\n",
    "df20 = pd.read_excel(f\"{base_path}Generacion_(kWh)_2014.xlsx\", header=2)\n",
    "dataframes.append(df20)\n",
    "\n",
    "df21 = pd.read_excel(f\"{base_path}Generacion_(kWh)_2015.xlsx\", header=2)\n",
    "dataframes.append(df21)\n",
    "\n",
    "df22 = pd.read_excel(f\"{base_path}Generacion_(kWh)_2016.xlsx\", header=2)\n",
    "dataframes.append(df22)\n",
    "\n",
    "df23 = pd.read_excel(f\"{base_path}Generacion_(kWh)_2017 .xlsx\", header=2)\n",
    "dataframes.append(df23)\n",
    "\n",
    "df24 = pd.read_excel(f\"{base_path}Generacion_(kWh)_2018.xlsx\", header=2)\n",
    "dataframes.append(df24)\n",
    "\n",
    "df25 = pd.read_excel(f\"{base_path}Generacion_(kWh)_2019.xlsx\", header=2)\n",
    "dataframes.append(df25)\n",
    "\n",
    "df26 = pd.read_excel(f\"{base_path}Generacion_(kWh)_2020.xlsx\", header=2)\n",
    "dataframes.append(df26)\n",
    "\n",
    "df27 = pd.read_excel(f\"{base_path}Generacion_(kWh)_2021.xlsx\", header=2)\n",
    "dataframes.append(df27)\n",
    "\n",
    "df28 = pd.read_excel(f\"{base_path}Generacion_(kWh)_2022.xlsx\", header=2)\n",
    "dataframes.append(df28)\n"
   ]
  }
 ],
 "metadata": {
  "kernelspec": {
   "display_name": "base",
   "language": "python",
   "name": "python3"
  },
  "language_info": {
   "codemirror_mode": {
    "name": "ipython",
    "version": 3
   },
   "file_extension": ".py",
   "mimetype": "text/x-python",
   "name": "python",
   "nbconvert_exporter": "python",
   "pygments_lexer": "ipython3",
   "version": "3.11.7"
  }
 },
 "nbformat": 4,
 "nbformat_minor": 2
}
