{
 "cells": [
  {
   "cell_type": "markdown",
   "metadata": {},
   "source": [
    "#"
   ]
  },
  {
   "cell_type": "markdown",
   "metadata": {},
   "source": [
    "# New_grid_porject"
   ]
  },
  {
   "cell_type": "code",
   "execution_count": 6,
   "metadata": {},
   "outputs": [],
   "source": [
    "import pandas as pd\n",
    "import numpy as np"
   ]
  },
  {
   "cell_type": "code",
   "execution_count": 8,
   "metadata": {},
   "outputs": [
    {
     "ename": "FileNotFoundError",
     "evalue": "[Errno 2] No such file or directory: 'D:\\\\Documentos\\\\Github\\\\gridproject\\\\Dataa\\\\Generacion_(kWh)_2017.xlsx'",
     "output_type": "error",
     "traceback": [
      "\u001b[1;31m---------------------------------------------------------------------------\u001b[0m",
      "\u001b[1;31mFileNotFoundError\u001b[0m                         Traceback (most recent call last)",
      "Cell \u001b[1;32mIn[8], line 71\u001b[0m\n\u001b[0;32m     68\u001b[0m df22 \u001b[38;5;241m=\u001b[39m pd\u001b[38;5;241m.\u001b[39mread_excel(\u001b[38;5;124m\"\u001b[39m\u001b[38;5;124mD:\u001b[39m\u001b[38;5;130;01m\\\\\u001b[39;00m\u001b[38;5;124mDocumentos\u001b[39m\u001b[38;5;130;01m\\\\\u001b[39;00m\u001b[38;5;124mGithub\u001b[39m\u001b[38;5;130;01m\\\\\u001b[39;00m\u001b[38;5;124mgridproject\u001b[39m\u001b[38;5;130;01m\\\\\u001b[39;00m\u001b[38;5;124mDataa\u001b[39m\u001b[38;5;130;01m\\\\\u001b[39;00m\u001b[38;5;124mGeneracion_(kWh)_2016.xlsx\u001b[39m\u001b[38;5;124m\"\u001b[39m, header\u001b[38;5;241m=\u001b[39m\u001b[38;5;241m2\u001b[39m)\n\u001b[0;32m     69\u001b[0m dataframes\u001b[38;5;241m.\u001b[39mappend(df22)\n\u001b[1;32m---> 71\u001b[0m df23 \u001b[38;5;241m=\u001b[39m pd\u001b[38;5;241m.\u001b[39mread_excel(\u001b[38;5;124m\"\u001b[39m\u001b[38;5;124mD:\u001b[39m\u001b[38;5;130;01m\\\\\u001b[39;00m\u001b[38;5;124mDocumentos\u001b[39m\u001b[38;5;130;01m\\\\\u001b[39;00m\u001b[38;5;124mGithub\u001b[39m\u001b[38;5;130;01m\\\\\u001b[39;00m\u001b[38;5;124mgridproject\u001b[39m\u001b[38;5;130;01m\\\\\u001b[39;00m\u001b[38;5;124mDataa\u001b[39m\u001b[38;5;130;01m\\\\\u001b[39;00m\u001b[38;5;124mGeneracion_(kWh)_2017.xlsx\u001b[39m\u001b[38;5;124m\"\u001b[39m, header\u001b[38;5;241m=\u001b[39m\u001b[38;5;241m2\u001b[39m)\n\u001b[0;32m     72\u001b[0m dataframes\u001b[38;5;241m.\u001b[39mappend(df23)\n\u001b[0;32m     74\u001b[0m df24 \u001b[38;5;241m=\u001b[39m pd\u001b[38;5;241m.\u001b[39mread_excel(\u001b[38;5;124m\"\u001b[39m\u001b[38;5;124mD:\u001b[39m\u001b[38;5;130;01m\\\\\u001b[39;00m\u001b[38;5;124mDocumentos\u001b[39m\u001b[38;5;130;01m\\\\\u001b[39;00m\u001b[38;5;124mGithub\u001b[39m\u001b[38;5;130;01m\\\\\u001b[39;00m\u001b[38;5;124mgridproject\u001b[39m\u001b[38;5;130;01m\\\\\u001b[39;00m\u001b[38;5;124mDataa\u001b[39m\u001b[38;5;130;01m\\\\\u001b[39;00m\u001b[38;5;124mGeneracion_(kWh)_2018.xlsx\u001b[39m\u001b[38;5;124m\"\u001b[39m, header\u001b[38;5;241m=\u001b[39m\u001b[38;5;241m2\u001b[39m)\n",
      "File \u001b[1;32mc:\\Users\\mateo\\anaconda3\\Lib\\site-packages\\pandas\\io\\excel\\_base.py:504\u001b[0m, in \u001b[0;36mread_excel\u001b[1;34m(io, sheet_name, header, names, index_col, usecols, dtype, engine, converters, true_values, false_values, skiprows, nrows, na_values, keep_default_na, na_filter, verbose, parse_dates, date_parser, date_format, thousands, decimal, comment, skipfooter, storage_options, dtype_backend, engine_kwargs)\u001b[0m\n\u001b[0;32m    502\u001b[0m \u001b[38;5;28;01mif\u001b[39;00m \u001b[38;5;129;01mnot\u001b[39;00m \u001b[38;5;28misinstance\u001b[39m(io, ExcelFile):\n\u001b[0;32m    503\u001b[0m     should_close \u001b[38;5;241m=\u001b[39m \u001b[38;5;28;01mTrue\u001b[39;00m\n\u001b[1;32m--> 504\u001b[0m     io \u001b[38;5;241m=\u001b[39m ExcelFile(\n\u001b[0;32m    505\u001b[0m         io,\n\u001b[0;32m    506\u001b[0m         storage_options\u001b[38;5;241m=\u001b[39mstorage_options,\n\u001b[0;32m    507\u001b[0m         engine\u001b[38;5;241m=\u001b[39mengine,\n\u001b[0;32m    508\u001b[0m         engine_kwargs\u001b[38;5;241m=\u001b[39mengine_kwargs,\n\u001b[0;32m    509\u001b[0m     )\n\u001b[0;32m    510\u001b[0m \u001b[38;5;28;01melif\u001b[39;00m engine \u001b[38;5;129;01mand\u001b[39;00m engine \u001b[38;5;241m!=\u001b[39m io\u001b[38;5;241m.\u001b[39mengine:\n\u001b[0;32m    511\u001b[0m     \u001b[38;5;28;01mraise\u001b[39;00m \u001b[38;5;167;01mValueError\u001b[39;00m(\n\u001b[0;32m    512\u001b[0m         \u001b[38;5;124m\"\u001b[39m\u001b[38;5;124mEngine should not be specified when passing \u001b[39m\u001b[38;5;124m\"\u001b[39m\n\u001b[0;32m    513\u001b[0m         \u001b[38;5;124m\"\u001b[39m\u001b[38;5;124man ExcelFile - ExcelFile already has the engine set\u001b[39m\u001b[38;5;124m\"\u001b[39m\n\u001b[0;32m    514\u001b[0m     )\n",
      "File \u001b[1;32mc:\\Users\\mateo\\anaconda3\\Lib\\site-packages\\pandas\\io\\excel\\_base.py:1563\u001b[0m, in \u001b[0;36mExcelFile.__init__\u001b[1;34m(self, path_or_buffer, engine, storage_options, engine_kwargs)\u001b[0m\n\u001b[0;32m   1561\u001b[0m     ext \u001b[38;5;241m=\u001b[39m \u001b[38;5;124m\"\u001b[39m\u001b[38;5;124mxls\u001b[39m\u001b[38;5;124m\"\u001b[39m\n\u001b[0;32m   1562\u001b[0m \u001b[38;5;28;01melse\u001b[39;00m:\n\u001b[1;32m-> 1563\u001b[0m     ext \u001b[38;5;241m=\u001b[39m inspect_excel_format(\n\u001b[0;32m   1564\u001b[0m         content_or_path\u001b[38;5;241m=\u001b[39mpath_or_buffer, storage_options\u001b[38;5;241m=\u001b[39mstorage_options\n\u001b[0;32m   1565\u001b[0m     )\n\u001b[0;32m   1566\u001b[0m     \u001b[38;5;28;01mif\u001b[39;00m ext \u001b[38;5;129;01mis\u001b[39;00m \u001b[38;5;28;01mNone\u001b[39;00m:\n\u001b[0;32m   1567\u001b[0m         \u001b[38;5;28;01mraise\u001b[39;00m \u001b[38;5;167;01mValueError\u001b[39;00m(\n\u001b[0;32m   1568\u001b[0m             \u001b[38;5;124m\"\u001b[39m\u001b[38;5;124mExcel file format cannot be determined, you must specify \u001b[39m\u001b[38;5;124m\"\u001b[39m\n\u001b[0;32m   1569\u001b[0m             \u001b[38;5;124m\"\u001b[39m\u001b[38;5;124man engine manually.\u001b[39m\u001b[38;5;124m\"\u001b[39m\n\u001b[0;32m   1570\u001b[0m         )\n",
      "File \u001b[1;32mc:\\Users\\mateo\\anaconda3\\Lib\\site-packages\\pandas\\io\\excel\\_base.py:1419\u001b[0m, in \u001b[0;36minspect_excel_format\u001b[1;34m(content_or_path, storage_options)\u001b[0m\n\u001b[0;32m   1416\u001b[0m \u001b[38;5;28;01mif\u001b[39;00m \u001b[38;5;28misinstance\u001b[39m(content_or_path, \u001b[38;5;28mbytes\u001b[39m):\n\u001b[0;32m   1417\u001b[0m     content_or_path \u001b[38;5;241m=\u001b[39m BytesIO(content_or_path)\n\u001b[1;32m-> 1419\u001b[0m \u001b[38;5;28;01mwith\u001b[39;00m get_handle(\n\u001b[0;32m   1420\u001b[0m     content_or_path, \u001b[38;5;124m\"\u001b[39m\u001b[38;5;124mrb\u001b[39m\u001b[38;5;124m\"\u001b[39m, storage_options\u001b[38;5;241m=\u001b[39mstorage_options, is_text\u001b[38;5;241m=\u001b[39m\u001b[38;5;28;01mFalse\u001b[39;00m\n\u001b[0;32m   1421\u001b[0m ) \u001b[38;5;28;01mas\u001b[39;00m handle:\n\u001b[0;32m   1422\u001b[0m     stream \u001b[38;5;241m=\u001b[39m handle\u001b[38;5;241m.\u001b[39mhandle\n\u001b[0;32m   1423\u001b[0m     stream\u001b[38;5;241m.\u001b[39mseek(\u001b[38;5;241m0\u001b[39m)\n",
      "File \u001b[1;32mc:\\Users\\mateo\\anaconda3\\Lib\\site-packages\\pandas\\io\\common.py:872\u001b[0m, in \u001b[0;36mget_handle\u001b[1;34m(path_or_buf, mode, encoding, compression, memory_map, is_text, errors, storage_options)\u001b[0m\n\u001b[0;32m    863\u001b[0m         handle \u001b[38;5;241m=\u001b[39m \u001b[38;5;28mopen\u001b[39m(\n\u001b[0;32m    864\u001b[0m             handle,\n\u001b[0;32m    865\u001b[0m             ioargs\u001b[38;5;241m.\u001b[39mmode,\n\u001b[1;32m   (...)\u001b[0m\n\u001b[0;32m    868\u001b[0m             newline\u001b[38;5;241m=\u001b[39m\u001b[38;5;124m\"\u001b[39m\u001b[38;5;124m\"\u001b[39m,\n\u001b[0;32m    869\u001b[0m         )\n\u001b[0;32m    870\u001b[0m     \u001b[38;5;28;01melse\u001b[39;00m:\n\u001b[0;32m    871\u001b[0m         \u001b[38;5;66;03m# Binary mode\u001b[39;00m\n\u001b[1;32m--> 872\u001b[0m         handle \u001b[38;5;241m=\u001b[39m \u001b[38;5;28mopen\u001b[39m(handle, ioargs\u001b[38;5;241m.\u001b[39mmode)\n\u001b[0;32m    873\u001b[0m     handles\u001b[38;5;241m.\u001b[39mappend(handle)\n\u001b[0;32m    875\u001b[0m \u001b[38;5;66;03m# Convert BytesIO or file objects passed with an encoding\u001b[39;00m\n",
      "\u001b[1;31mFileNotFoundError\u001b[0m: [Errno 2] No such file or directory: 'D:\\\\Documentos\\\\Github\\\\gridproject\\\\Dataa\\\\Generacion_(kWh)_2017.xlsx'"
     ]
    }
   ],
   "source": [
    "import pandas as pd\n",
    "\n",
    "dataframes = []\n",
    "\n",
    "df1 = pd.read_excel(\"D:\\\\Documentos\\\\Github\\\\gridproject\\\\Dataa\\\\Generacion_(kWh)_1995.xlsx\", header=2)\n",
    "dataframes.append(df1)\n",
    "\n",
    "df2 = pd.read_excel(\"D:\\\\Documentos\\\\Github\\\\gridproject\\\\Dataa\\\\Generacion_(kWh)_1996.xlsx\", header=0)\n",
    "dataframes.append(df2)\n",
    "\n",
    "df3 = pd.read_excel(\"D:\\\\Documentos\\\\Github\\\\gridproject\\\\Dataa\\\\Generacion_(kWh)_1997.xlsx\", header=1)\n",
    "dataframes.append(df3)\n",
    "\n",
    "df4 = pd.read_excel(\"D:\\\\Documentos\\\\Github\\\\gridproject\\\\Dataa\\\\Generacion_(kWh)_1998.xlsx\", header=1)\n",
    "dataframes.append(df4)\n",
    "\n",
    "df5 = pd.read_excel(\"D:\\\\Documentos\\\\Github\\\\gridproject\\\\Dataa\\\\Generacion_(kWh)_1999.xlsx\", header=1)\n",
    "dataframes.append(df5)\n",
    "\n",
    "df6 = pd.read_excel(\"D:\\\\Documentos\\\\Github\\\\gridproject\\\\Dataa\\\\Generacion_(kWh)_2000.xlsx\", header=2)\n",
    "dataframes.append(df6)\n",
    "\n",
    "df7 = pd.read_excel(\"D:\\\\Documentos\\\\Github\\\\gridproject\\\\Dataa\\\\Generacion_(kWh)_2001.xlsx\", header=1)\n",
    "dataframes.append(df7)\n",
    "\n",
    "df8 = pd.read_excel(\"D:\\\\Documentos\\\\Github\\\\gridproject\\\\Dataa\\\\Generacion_(kWh)_2002.xlsx\", header=1)\n",
    "dataframes.append(df8)\n",
    "\n",
    "df9 = pd.read_excel(\"D:\\\\Documentos\\\\Github\\\\gridproject\\\\Dataa\\\\Generacion_(kWh)_2003.xlsx\", header=2)\n",
    "dataframes.append(df9)\n",
    "\n",
    "df10 = pd.read_excel(\"D:\\\\Documentos\\\\Github\\\\gridproject\\\\Dataa\\\\Generacion_(kWh)_2004.xlsx\", header=1)\n",
    "dataframes.append(df10)\n",
    "\n",
    "df11 = pd.read_excel(\"D:\\\\Documentos\\\\Github\\\\gridproject\\\\Dataa\\\\Generacion_(kWh)_2005.xlsx\", header=1)\n",
    "dataframes.append(df11)\n",
    "\n",
    "df12 = pd.read_excel(\"D:\\\\Documentos\\\\Github\\\\gridproject\\\\Dataa\\\\Generacion_(kWh)_2006.xlsx\", header=2)\n",
    "dataframes.append(df12)\n",
    "\n",
    "df13 = pd.read_excel(\"D:\\\\Documentos\\\\Github\\\\gridproject\\\\Dataa\\\\Generacion_(kWh)_2007.xlsx\", header=2)\n",
    "dataframes.append(df13)\n",
    "\n",
    "df14 = pd.read_excel(\"D:\\\\Documentos\\\\Github\\\\gridproject\\\\Dataa\\\\Generacion_(kWh)_2008.xlsx\", header=2)\n",
    "dataframes.append(df14)\n",
    "\n",
    "df15 = pd.read_excel(\"D:\\\\Documentos\\\\Github\\\\gridproject\\\\Dataa\\\\Generacion_(kWh)_2009.xlsx\", header=2)\n",
    "dataframes.append(df15)\n",
    "\n",
    "df16 = pd.read_excel(\"D:\\\\Documentos\\\\Github\\\\gridproject\\\\Dataa\\\\Generacion_(kWh)_2010.xlsx\", header=2)\n",
    "dataframes.append(df16)\n",
    "\n",
    "df17 = pd.read_excel(\"D:\\\\Documentos\\\\Github\\\\gridproject\\\\Dataa\\\\Generacion_(kWh)_2011.xlsx\", header=2)\n",
    "dataframes.append(df17)\n",
    "\n",
    "df18 = pd.read_excel(\"D:\\\\Documentos\\\\Github\\\\gridproject\\\\Dataa\\\\Generacion_(kWh)_2012.xlsx\", header=2)\n",
    "dataframes.append(df18)\n",
    "\n",
    "df19 = pd.read_excel(\"D:\\\\Documentos\\\\Github\\\\gridproject\\\\Dataa\\\\Generacion_(kWh)_2013.xlsx\", header=2)\n",
    "dataframes.append(df19)\n",
    "\n",
    "df20 = pd.read_excel(\"D:\\\\Documentos\\\\Github\\\\gridproject\\\\Dataa\\\\Generacion_(kWh)_2014.xlsx\", header=2)\n",
    "dataframes.append(df20)\n",
    "\n",
    "df21 = pd.read_excel(\"D:\\\\Documentos\\\\Github\\\\gridproject\\\\Dataa\\\\Generacion_(kWh)_2015.xlsx\", header=2)\n",
    "dataframes.append(df21)\n",
    "\n",
    "df22 = pd.read_excel(\"D:\\\\Documentos\\\\Github\\\\gridproject\\\\Dataa\\\\Generacion_(kWh)_2016.xlsx\", header=2)\n",
    "dataframes.append(df22)\n",
    "\n",
    "df23 = pd.read_excel(\"D:\\\\Documentos\\\\Github\\\\gridproject\\\\Dataa\\\\Generacion_(kWh)_2017.xlsx\", header=2)\n",
    "dataframes.append(df23)\n",
    "\n",
    "df24 = pd.read_excel(\"D:\\\\Documentos\\\\Github\\\\gridproject\\\\Dataa\\\\Generacion_(kWh)_2018.xlsx\", header=2)\n",
    "dataframes.append(df24)\n",
    "\n",
    "df25 = pd.read_excel(\"D:\\\\Documentos\\\\Github\\\\gridproject\\\\Dataa\\\\Generacion_(kWh)_2019.xlsx\", header=2)\n",
    "dataframes.append(df25)\n",
    "\n",
    "df26 = pd.read_excel(\"D:\\\\Documentos\\\\Github\\\\gridproject\\\\Dataa\\\\Generacion_(kWh)_2020.xlsx\", header=2)\n",
    "dataframes.append(df26)\n",
    "\n",
    "df27 = pd.read_excel(\"D:\\\\Documentos\\\\Github\\\\gridproject\\\\Dataa\\\\Generacion_(kWh)_2021.xlsx\", header=2)\n",
    "dataframes.append(df27)\n",
    "\n",
    "df28 = pd.read_excel(\"D:\\\\Documentos\\\\Github\\\\gridproject\\\\Dataa\\\\Generacion_(kWh)_2022.xlsx\", header=2)\n",
    "dataframes.append(df28)\n",
    "\n",
    "print(1)\n"
   ]
  },
  {
   "cell_type": "code",
   "execution_count": null,
   "metadata": {},
   "outputs": [],
   "source": []
  }
 ],
 "metadata": {
  "kernelspec": {
   "display_name": "base",
   "language": "python",
   "name": "python3"
  },
  "language_info": {
   "codemirror_mode": {
    "name": "ipython",
    "version": 3
   },
   "file_extension": ".py",
   "mimetype": "text/x-python",
   "name": "python",
   "nbconvert_exporter": "python",
   "pygments_lexer": "ipython3",
   "version": "3.11.7"
  }
 },
 "nbformat": 4,
 "nbformat_minor": 2
}
